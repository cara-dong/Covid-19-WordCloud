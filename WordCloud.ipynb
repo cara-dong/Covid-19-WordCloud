{
  "nbformat": 4,
  "nbformat_minor": 0,
  "metadata": {
    "colab": {
      "name": "WordCloud.ipynb",
      "provenance": [],
      "authorship_tag": "ABX9TyPht4FMHyBQbfVCzvqPHQS3",
      "include_colab_link": true
    },
    "kernelspec": {
      "name": "python3",
      "display_name": "Python 3"
    }
  },
  "cells": [
    {
      "cell_type": "markdown",
      "metadata": {
        "id": "view-in-github",
        "colab_type": "text"
      },
      "source": [
        "<a href=\"https://colab.research.google.com/github/PeachSodaa/Covid-19-WordCloud/blob/master/WordCloud.ipynb\" target=\"_parent\"><img src=\"https://colab.research.google.com/assets/colab-badge.svg\" alt=\"Open In Colab\"/></a>"
      ]
    },
    {
      "cell_type": "code",
      "metadata": {
        "id": "zFNnAg_PuSLu",
        "colab_type": "code",
        "colab": {}
      },
      "source": [
        "import numpy as np\n",
        "import pandas as pd\n",
        "from os import path\n",
        "from PIL import Image\n",
        "from wordcloud import WordCloud, STOPWORDS, ImageColorGenerator\n",
        "​\n",
        "import matplotlib.pyplot as plt\n"
      ],
      "execution_count": 0,
      "outputs": []
    },
    {
      "cell_type": "code",
      "metadata": {
        "id": "SgdCgJSTuWiF",
        "colab_type": "code",
        "colab": {}
      },
      "source": [
        "df = pd.read_csv('2020-03-29 Coronavirus Tweets.CSV')\n",
        "df[df.lang=='en']\n",
        "stopwords = set(STOPWORDS)\n",
        "stopwords = ([\"de\", \"da\", \"salud\", \"even\", \"say\", \n",
        "              \"still\", \"now\", \"one\", \"amp\", \"de la\", \n",
        "              \"la\", \"que\", \"el\", \"por\", \"CoronavirusOutbreak\",\n",
        "             \"Covid_19\", \"COVID2019\", \"CO\", \"https\", \n",
        "             \"http\", \".com\", \"coronavirus\", \"covid\", \"covid19\", \"COVID19\",\n",
        "             \"Coronavirus\", \"CORONAVIRUS\", \"Corona\"])"
      ],
      "execution_count": 0,
      "outputs": []
    },
    {
      "cell_type": "code",
      "metadata": {
        "id": "ApXPwaIcuXMZ",
        "colab_type": "code",
        "colab": {}
      },
      "source": [
        "# Generate a word cloud image\n",
        "text1 = \" \".join(review for review in df.text)\n",
        "wordcloud = WordCloud(stopwords=stopwords, background_color=\"white\", width=800, height=400).generate(text1)\n",
        "plt.figure(figsize=(20, 10))\n",
        "plt.imshow(wordcloud, interpolation=\"bilinear\")\n",
        "plt.axis=(\"off\")\n",
        "cloud=wordcloud.to_file('newcloud.png')"
      ],
      "execution_count": 0,
      "outputs": []
    }
  ]
}